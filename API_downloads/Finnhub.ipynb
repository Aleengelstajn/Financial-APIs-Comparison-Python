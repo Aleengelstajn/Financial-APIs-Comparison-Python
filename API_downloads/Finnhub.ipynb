{
 "cells": [
  {
   "cell_type": "code",
   "execution_count": 72,
   "metadata": {},
   "outputs": [],
   "source": [
    "''' Libraries ''' \n",
    "import requests\n",
    "import os\n",
    "import pandas as pd\n",
    "from fuzzywuzzy import process, fuzz\n",
    "from urllib.request import urlopen\n",
    "import functools as ft\n"
   ]
  },
  {
   "cell_type": "code",
   "execution_count": 4,
   "metadata": {},
   "outputs": [
    {
     "name": "stdout",
     "output_type": "stream",
     "text": [
      "['accountsPayable', 'accountsReceivables', 'accruedLiability', 'accumulatedDepreciation', 'cash', 'cashEquivalents', 'cashShortTermInvestments', 'commonStock', 'currentAssets', 'currentLiabilities', 'currentPortionLongTermDebt', 'inventory', 'liabilitiesShareholdersEquity', 'longTermDebt', 'longTermInvestments', 'netDebt', 'otherCurrentAssets', 'otherCurrentliabilities', 'otherEquity', 'otherLiabilities', 'otherLongTermAssets', 'otherReceivables', 'period', 'propertyPlantEquipment', 'retainedEarnings', 'sharesOutstanding', 'shortTermDebt', 'shortTermInvestments', 'tangibleBookValueperShare', 'totalAssets', 'totalDebt', 'totalEquity', 'totalLiabilities', 'totalReceivables', 'year']\n",
      "['capex', 'cashDividendsPaid', 'cashInterestPaid', 'cashTaxesPaid', 'changeinCash', 'changesinWorkingCapital', 'deferredTaxesInvestmentTaxCredit', 'depreciationAmortization', 'fcf', 'issuanceReductionCapitalStock', 'issuanceReductionDebtNet', 'netCashFinancingActivities', 'netIncomeStartingLine', 'netInvestingCashFlow', 'netOperatingCashFlow', 'otherFundsFinancingItems', 'otherFundsNonCashItems', 'otherInvestingCashFlowItemsTotal', 'period', 'year']\n",
      "['accountsPayable', 'accountsReceivables', 'accruedLiability', 'accumulatedDepreciation', 'cash', 'cashEquivalents', 'cashShortTermInvestments', 'commonStock', 'currentAssets', 'currentLiabilities', 'currentPortionLongTermDebt', 'inventory', 'liabilitiesShareholdersEquity', 'longTermDebt', 'longTermInvestments', 'netDebt', 'otherCurrentAssets', 'otherCurrentliabilities', 'otherEquity', 'otherLiabilities', 'otherLongTermAssets', 'otherReceivables', 'period', 'propertyPlantEquipment', 'retainedEarnings', 'sharesOutstanding', 'shortTermDebt', 'shortTermInvestments', 'tangibleBookValueperShare', 'totalAssets', 'totalDebt', 'totalEquity', 'totalLiabilities', 'totalReceivables', 'year']\n"
     ]
    }
   ],
   "source": [
    "import finnhub\n",
    "\n",
    "finnhub_client = finnhub.Client(api_key='cagpcp2ad3i02fchaga0')\n",
    "''' Income statement'''\n",
    "data = finnhub_client.financials('AAPL', 'is', 'annual')\n",
    "bs = list(data['financials'][0].keys())\n",
    "print(bs)\n",
    "''' Cash Flow '''\n",
    "data = finnhub_client.financials('AAPL', 'cf', 'annual')\n",
    "cf = list(data['financials'][0].keys())\n",
    "print(cf)\n",
    "''' Balance Sheet ''' \n",
    "data = finnhub_client.financials('AAPL', 'bs', 'annual')\n",
    "bs = list(data['financials'][0].keys())\n",
    "print(bs)"
   ]
  },
  {
   "cell_type": "code",
   "execution_count": 84,
   "metadata": {},
   "outputs": [
    {
     "name": "stdout",
     "output_type": "stream",
     "text": [
      "(38, 79)\n",
      "(40, 18) (38, 21) (40, 42)\n"
     ]
    },
    {
     "data": {
      "text/plain": [
       "(38, 79)"
      ]
     },
     "execution_count": 84,
     "metadata": {},
     "output_type": "execute_result"
    }
   ],
   "source": [
    "data = finnhub_client.financials('AAPL', 'bs', 'annual')\n",
    "'''\n",
    "Balance Sheet\n",
    "'''\n",
    "df_balance = pd.DataFrame()\n",
    "for j in range(len(data['financials'])):\n",
    "    df = pd.DataFrame(data['financials'][j], index=[1])\n",
    "    df_balance = pd.concat([df_balance, df], axis=0)\n",
    "cols = list(df_balance.columns)\n",
    "cols.remove('period')\n",
    "cols.insert(0,'period')\n",
    "df_balance = df_balance\n",
    "#display(df_balance[cols].head(3))\n",
    "\n",
    "''' \n",
    "Income Statement\n",
    "''' \n",
    "data = finnhub_client.financials('AAPL', 'ic', 'annual')\n",
    "df_income = pd.DataFrame()\n",
    "for k in range(len(data['financials'])):\n",
    "    df = pd.DataFrame(data['financials'][k], index=[1])\n",
    "    df_income = pd.concat([df_income, df], axis=0)\n",
    "cols = list(df_income.columns)\n",
    "cols.remove('period')\n",
    "cols.insert(0,'period')\n",
    "df_income = df_income[cols]\n",
    "#display(df_income.head(3))\n",
    "\n",
    "'''\n",
    "Cash Flow\n",
    "''' \n",
    "data = finnhub_client.financials('AAPL', 'cf', 'annual')\n",
    "df_cash = pd.DataFrame()\n",
    "for q in range(len(data['financials'])):\n",
    "    try:\n",
    "        df = pd.DataFrame(data['financials'][q], index=[1])\n",
    "        df_cash  = pd.concat([df_cash, df], axis=0)\n",
    "    except:\n",
    "        print(q)\n",
    "        pass\n",
    "cols = list(df_cash.columns)\n",
    "cols.remove('period')\n",
    "cols.insert(0, 'period')\n",
    "df_cash = df_cash[cols]\n",
    "#display(df_cash.head(3))\n",
    "\n",
    "dfs = [df_cash, df_balance, df_income] \n",
    "df_final = ft.reduce(lambda left, right: pd.merge(left, right, on='period'), dfs)\n",
    "\n",
    "\n",
    "print(df_final.shape)\n",
    "print(df_income.shape, df_cash.shape, df_balance.shape)\n",
    "df_final.shape"
   ]
  },
  {
   "cell_type": "code",
   "execution_count": 49,
   "metadata": {},
   "outputs": [
    {
     "data": {
      "text/plain": [
       "dict_keys(['financials', 'symbol'])"
      ]
     },
     "execution_count": 49,
     "metadata": {},
     "output_type": "execute_result"
    }
   ],
   "source": [
    "data = finnhub_client.financials('AAPL', 'cf', 'annual')\n",
    "data.keys()"
   ]
  }
 ],
 "metadata": {
  "kernelspec": {
   "display_name": "Python 3",
   "language": "python",
   "name": "python3"
  },
  "language_info": {
   "codemirror_mode": {
    "name": "ipython",
    "version": 3
   },
   "file_extension": ".py",
   "mimetype": "text/x-python",
   "name": "python",
   "nbconvert_exporter": "python",
   "pygments_lexer": "ipython3",
   "version": "3.9.13"
  },
  "orig_nbformat": 4,
  "vscode": {
   "interpreter": {
    "hash": "006c2b932914ff8e95f30e749041e4b399d36857f00ee48d79cb79341a100acd"
   }
  }
 },
 "nbformat": 4,
 "nbformat_minor": 2
}
